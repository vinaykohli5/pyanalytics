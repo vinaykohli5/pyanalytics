{
 "cells": [
  {
   "cell_type": "code",
   "execution_count": 1,
   "id": "fb9746ac",
   "metadata": {},
   "outputs": [],
   "source": [
    "# data strictires in pythn"
   ]
  },
  {
   "cell_type": "markdown",
   "id": "4955fec4",
   "metadata": {},
   "source": [
    "# list\n",
    "- square bracket [ ]\n",
    "- https://docs.python.org/3/tutorial/datastructures.html"
   ]
  },
  {
   "cell_type": "code",
   "execution_count": 2,
   "id": "da7aceca",
   "metadata": {},
   "outputs": [],
   "source": [
    "list1 = ['A','B',1, 4, 'Dhiraj', 3.14, False]"
   ]
  },
  {
   "cell_type": "code",
   "execution_count": 3,
   "id": "8b69398e",
   "metadata": {},
   "outputs": [
    {
     "data": {
      "text/plain": [
       "['A', 'B', 1, 4, 'Dhiraj', 3.14, False]"
      ]
     },
     "execution_count": 3,
     "metadata": {},
     "output_type": "execute_result"
    }
   ],
   "source": [
    "list1"
   ]
  },
  {
   "cell_type": "code",
   "execution_count": 4,
   "id": "754d2678",
   "metadata": {},
   "outputs": [
    {
     "name": "stdout",
     "output_type": "stream",
     "text": [
      "['A', 'B', 1, 4, 'Dhiraj', 3.14, False]\n"
     ]
    }
   ],
   "source": [
    "print(list1)"
   ]
  },
  {
   "cell_type": "code",
   "execution_count": 6,
   "id": "c15f2aec",
   "metadata": {},
   "outputs": [
    {
     "data": {
      "text/plain": [
       "['A', 'B']"
      ]
     },
     "execution_count": 6,
     "metadata": {},
     "output_type": "execute_result"
    }
   ],
   "source": [
    "list1[0:2]"
   ]
  },
  {
   "cell_type": "markdown",
   "id": "3dfe6c20",
   "metadata": {},
   "source": [
    "# tuple\n",
    "-  ( ), immutable\n",
    "-  https://docs.python.org/3/tutorial/datastructures.html#tuples-and-sequences"
   ]
  },
  {
   "cell_type": "code",
   "execution_count": 8,
   "id": "e6f9ab84",
   "metadata": {},
   "outputs": [],
   "source": [
    "tuple1 = (1,'a',3,4)"
   ]
  },
  {
   "cell_type": "code",
   "execution_count": 9,
   "id": "5eca005c",
   "metadata": {},
   "outputs": [
    {
     "data": {
      "text/plain": [
       "4"
      ]
     },
     "execution_count": 9,
     "metadata": {},
     "output_type": "execute_result"
    }
   ],
   "source": [
    "tuple1[3]"
   ]
  },
  {
   "cell_type": "markdown",
   "id": "b8f052e7",
   "metadata": {},
   "source": [
    "# sets\n",
    "- { }, set()"
   ]
  },
  {
   "cell_type": "markdown",
   "id": "4342f53b",
   "metadata": {},
   "source": [
    "# dictionaries\n",
    "- {key:value}"
   ]
  },
  {
   "cell_type": "markdown",
   "id": "35b283a5",
   "metadata": {},
   "source": [
    "# strings"
   ]
  }
 ],
 "metadata": {
  "kernelspec": {
   "display_name": "Python 3 (ipykernel)",
   "language": "python",
   "name": "python3"
  },
  "language_info": {
   "codemirror_mode": {
    "name": "ipython",
    "version": 3
   },
   "file_extension": ".py",
   "mimetype": "text/x-python",
   "name": "python",
   "nbconvert_exporter": "python",
   "pygments_lexer": "ipython3",
   "version": "3.9.7"
  }
 },
 "nbformat": 4,
 "nbformat_minor": 5
}
